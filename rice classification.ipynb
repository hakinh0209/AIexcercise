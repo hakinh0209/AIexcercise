{
  "nbformat": 4,
  "nbformat_minor": 0,
  "metadata": {
    "colab": {
      "provenance": [],
      "collapsed_sections": []
    },
    "kernelspec": {
      "name": "python3",
      "display_name": "Python 3"
    },
    "language_info": {
      "name": "python"
    }
  },
  "cells": [
    {
      "cell_type": "code",
      "execution_count": 1,
      "metadata": {
        "id": "hOVATHz1SeO9"
      },
      "outputs": [],
      "source": [
        "import numpy as np\n",
        "import sklearn\n",
        "import matplotlib.pyplot as plt"
      ]
    },
    {
      "cell_type": "code",
      "source": [
        "from google.colab import drive\n",
        "drive.mount('/content/drive')"
      ],
      "metadata": {
        "colab": {
          "base_uri": "https://localhost:8080/"
        },
        "id": "21--NUHUSnag",
        "outputId": "75c76eb5-4af7-423b-d048-64e61a23496f"
      },
      "execution_count": 2,
      "outputs": [
        {
          "output_type": "stream",
          "name": "stdout",
          "text": [
            "Mounted at /content/drive\n"
          ]
        }
      ]
    },
    {
      "cell_type": "code",
      "source": [
        "cd /content/drive/MyDrive/ai2/rice/rices"
      ],
      "metadata": {
        "colab": {
          "base_uri": "https://localhost:8080/"
        },
        "id": "rrhjrbl4Sqpv",
        "outputId": "fadf0236-04ae-4db5-c342-192a86979a16"
      },
      "execution_count": 3,
      "outputs": [
        {
          "output_type": "stream",
          "name": "stdout",
          "text": [
            "/content/drive/MyDrive/ai2/rice/rices\n"
          ]
        }
      ]
    },
    {
      "cell_type": "code",
      "source": [
        "ls"
      ],
      "metadata": {
        "colab": {
          "base_uri": "https://localhost:8080/"
        },
        "id": "5N1jn6Q6Sx8v",
        "outputId": "adec3111-2724-47ad-a72a-997c98ec2c1b"
      },
      "execution_count": 4,
      "outputs": [
        {
          "output_type": "stream",
          "name": "stdout",
          "text": [
            "\u001b[0m\u001b[01;34mArborio\u001b[0m/  \u001b[01;34mIpsala\u001b[0m/  \u001b[01;34mJasmine\u001b[0m/  rice_classification_weight.h5\n"
          ]
        }
      ]
    },
    {
      "cell_type": "code",
      "source": [
        "import cv2\n",
        "from pathlib import Path\n",
        "flower_dataset_folder = '/content/drive/MyDrive/ai2/rice/rices'\n",
        "classnames = []\n",
        "for path in Path(flower_dataset_folder).iterdir():\n",
        "    if path.is_dir():\n",
        "        classnames.append(str(path).split('/')[-1])\n",
        "print(classnames)\n",
        "X = []\n",
        "y = []\n",
        "for i in range(len(classnames)):\n",
        "  print(classnames[i])\n",
        "  images = list(Path(classnames[i]).glob('*'))\n",
        "  for image in range(int(0.4*len(images))):\n",
        "    img = cv2.imread(str(images[image]))\n",
        "    img = cv2.resize(img, (128, 128))\n",
        "    img = img.astype('float32')\n",
        "    img = img/255\n",
        "    X.append(img)\n",
        "    y.append(i)"
      ],
      "metadata": {
        "colab": {
          "base_uri": "https://localhost:8080/"
        },
        "id": "J7LcOvsIS8Ju",
        "outputId": "665f4e56-9cbb-48fd-93f3-4e52483eaad7"
      },
      "execution_count": 6,
      "outputs": [
        {
          "output_type": "stream",
          "name": "stdout",
          "text": [
            "['Arborio', 'Jasmine', 'Ipsala']\n",
            "Arborio\n",
            "Jasmine\n",
            "Ipsala\n"
          ]
        }
      ]
    },
    {
      "cell_type": "code",
      "source": [
        "from sklearn.model_selection import train_test_split\n",
        "X_train, X_test, y_train, y_test = train_test_split(np.array(X), np.array(y), test_size=0.2)"
      ],
      "metadata": {
        "id": "hp1WKxv3TA9a"
      },
      "execution_count": 7,
      "outputs": []
    },
    {
      "cell_type": "code",
      "source": [
        "from keras.utils import to_categorical\n",
        "y_train = to_categorical(y_train)\n",
        "y_test = to_categorical(y_test)"
      ],
      "metadata": {
        "id": "SMePE0R_TFR4"
      },
      "execution_count": 8,
      "outputs": []
    },
    {
      "cell_type": "code",
      "source": [
        "print(X_train.shape)\n",
        "print(X_test.shape)\n",
        "print(y_train.shape)\n",
        "print(y_test.shape)"
      ],
      "metadata": {
        "colab": {
          "base_uri": "https://localhost:8080/"
        },
        "id": "8-ESigMfTLNE",
        "outputId": "c8e9e717-f8bf-4d34-8038-ec7eb0a0aa7a"
      },
      "execution_count": 9,
      "outputs": [
        {
          "output_type": "stream",
          "name": "stdout",
          "text": [
            "(192, 128, 128, 3)\n",
            "(48, 128, 128, 3)\n",
            "(192, 3)\n",
            "(48, 3)\n"
          ]
        }
      ]
    },
    {
      "cell_type": "code",
      "source": [
        "plt.imshow(X_train[2])\n",
        "print(y_train[2])"
      ],
      "metadata": {
        "colab": {
          "base_uri": "https://localhost:8080/",
          "height": 285
        },
        "id": "BpkPmtWQTNVz",
        "outputId": "edc06e11-f769-454f-e30a-c339ebb0aa17"
      },
      "execution_count": 10,
      "outputs": [
        {
          "output_type": "stream",
          "name": "stdout",
          "text": [
            "[0. 1. 0.]\n"
          ]
        },
        {
          "output_type": "display_data",
          "data": {
            "text/plain": [
              "<Figure size 432x288 with 1 Axes>"
            ],
            "image/png": "[encoded data removed]"
          },
          "metadata": {
            "needs_background": "light"
          }
        }
      ]
    },
    {
      "cell_type": "code",
      "source": [
        "from keras.models import Sequential, Model\n",
        "from keras import layers\n",
        "from keras.layers import Dense, Dropout, Flatten, Conv2D, MaxPooling2D, Activation\n",
        "model = Sequential()\n",
        "model.add(Conv2D(filters = 32, kernel_size = (5,5),padding = 'Same',activation ='relu', input_shape = X_train[0].shape))\n",
        "model.add(MaxPooling2D(pool_size=(2,2)))\n",
        "\n",
        "\n",
        "model.add(Conv2D(filters = 64, kernel_size = (3,3),padding = 'Same',activation ='relu'))\n",
        "model.add(MaxPooling2D(pool_size=(2,2), strides=(2,2)))\n",
        " \n",
        "\n",
        "model.add(Conv2D(filters =96, kernel_size = (3,3),padding = 'Same',activation ='relu'))\n",
        "model.add(MaxPooling2D(pool_size=(2,2), strides=(2,2)))\n",
        "\n",
        "model.add(Conv2D(filters = 96, kernel_size = (3,3),padding = 'Same',activation ='relu'))\n",
        "model.add(MaxPooling2D(pool_size=(2,2), strides=(2,2)))\n",
        "\n",
        "model.add(Flatten())\n",
        "model.add(Dense(512))\n",
        "model.add(Activation('relu'))\n",
        "model.add(Dense(y_train.shape[1], activation = \"softmax\"))\n",
        "model.summary()"
      ],
      "metadata": {
        "colab": {
          "base_uri": "https://localhost:8080/"
        },
        "id": "22A2z27gTOQy",
        "outputId": "382dac73-867b-4586-b5c1-efa90e8f2671"
      },
      "execution_count": 11,
      "outputs": [
        {
          "output_type": "stream",
          "name": "stdout",
          "text": [
            "Model: \"sequential\"\n",
            "_________________________________________________________________\n",
            " Layer (type)                Output Shape              Param #   \n",
            "=================================================================\n",
            " conv2d (Conv2D)             (None, 128, 128, 32)      2432      \n",
            "                                                                 \n",
            " max_pooling2d (MaxPooling2D  (None, 64, 64, 32)       0         \n",
            " )                                                               \n",
            "                                                                 \n",
            " conv2d_1 (Conv2D)           (None, 64, 64, 64)        18496     \n",
            "                                                                 \n",
            " max_pooling2d_1 (MaxPooling  (None, 32, 32, 64)       0         \n",
            " 2D)                                                             \n",
            "                                                                 \n",
            " conv2d_2 (Conv2D)           (None, 32, 32, 96)        55392     \n",
            "                                                                 \n",
            " max_pooling2d_2 (MaxPooling  (None, 16, 16, 96)       0         \n",
            " 2D)                                                             \n",
            "                                                                 \n",
            " conv2d_3 (Conv2D)           (None, 16, 16, 96)        83040     \n",
            "                                                                 \n",
            " max_pooling2d_3 (MaxPooling  (None, 8, 8, 96)         0         \n",
            " 2D)                                                             \n",
            "                                                                 \n",
            " flatten (Flatten)           (None, 6144)              0         \n",
            "                                                                 \n",
            " dense (Dense)               (None, 512)               3146240   \n",
            "                                                                 \n",
            " activation (Activation)     (None, 512)               0         \n",
            "                                                                 \n",
            " dense_1 (Dense)             (None, 3)                 1539      \n",
            "                                                                 \n",
            "=================================================================\n",
            "Total params: 3,307,139\n",
            "Trainable params: 3,307,139\n",
            "Non-trainable params: 0\n",
            "_________________________________________________________________\n"
          ]
        }
      ]
    },
    {
      "cell_type": "code",
      "source": [
        "import keras\n",
        "model.compile(optimizer=keras.optimizers.Adam(), loss='categorical_crossentropy', metrics=['accuracy'])"
      ],
      "metadata": {
        "id": "fB7j8nxQTS9p"
      },
      "execution_count": 12,
      "outputs": []
    },
    {
      "cell_type": "code",
      "source": [
        "history = model.fit(X_train, y_train, epochs=100, batch_size=128, verbose=2)"
      ],
      "metadata": {
        "colab": {
          "base_uri": "https://localhost:8080/"
        },
        "id": "5Sx0H5hxTVFU",
        "outputId": "c4616141-456d-4fd0-9d96-b4c558117bd5"
      },
      "execution_count": 13,
      "outputs": [
        {
          "output_type": "stream",
          "name": "stdout",
          "text": [
            "Epoch 1/100\n",
            "2/2 - 14s - loss: 1.0535 - accuracy: 0.3177 - 14s/epoch - 7s/step\n",
            "Epoch 2/100\n",
            "2/2 - 7s - loss: 0.6958 - accuracy: 0.7656 - 7s/epoch - 4s/step\n",
            "Epoch 3/100\n",
            "2/2 - 7s - loss: 0.5432 - accuracy: 0.7656 - 7s/epoch - 4s/step\n",
            "Epoch 4/100\n",
            "2/2 - 8s - loss: 0.5976 - accuracy: 0.6510 - 8s/epoch - 4s/step\n",
            "Epoch 5/100\n",
            "2/2 - 8s - loss: 0.3079 - accuracy: 0.8698 - 8s/epoch - 4s/step\n",
            "Epoch 6/100\n",
            "2/2 - 9s - loss: 0.4275 - accuracy: 0.7604 - 9s/epoch - 5s/step\n",
            "Epoch 7/100\n",
            "2/2 - 8s - loss: 0.3272 - accuracy: 0.8646 - 8s/epoch - 4s/step\n",
            "Epoch 8/100\n",
            "2/2 - 8s - loss: 0.2821 - accuracy: 0.9427 - 8s/epoch - 4s/step\n",
            "Epoch 9/100\n",
            "2/2 - 7s - loss: 0.2212 - accuracy: 0.9531 - 7s/epoch - 4s/step\n",
            "Epoch 10/100\n",
            "2/2 - 7s - loss: 0.1467 - accuracy: 0.9635 - 7s/epoch - 4s/step\n",
            "Epoch 11/100\n",
            "2/2 - 7s - loss: 0.0959 - accuracy: 0.9792 - 7s/epoch - 4s/step\n",
            "Epoch 12/100\n",
            "2/2 - 10s - loss: 0.0765 - accuracy: 0.9688 - 10s/epoch - 5s/step\n",
            "Epoch 13/100\n",
            "2/2 - 9s - loss: 0.0281 - accuracy: 0.9948 - 9s/epoch - 4s/step\n",
            "Epoch 14/100\n",
            "2/2 - 9s - loss: 0.0157 - accuracy: 0.9948 - 9s/epoch - 4s/step\n",
            "Epoch 15/100\n",
            "2/2 - 8s - loss: 0.0323 - accuracy: 0.9948 - 8s/epoch - 4s/step\n",
            "Epoch 16/100\n",
            "2/2 - 8s - loss: 0.0018 - accuracy: 1.0000 - 8s/epoch - 4s/step\n",
            "Epoch 17/100\n",
            "2/2 - 8s - loss: 0.0374 - accuracy: 0.9896 - 8s/epoch - 4s/step\n",
            "Epoch 18/100\n",
            "2/2 - 8s - loss: 0.0074 - accuracy: 0.9948 - 8s/epoch - 4s/step\n",
            "Epoch 19/100\n",
            "2/2 - 7s - loss: 0.0036 - accuracy: 1.0000 - 7s/epoch - 4s/step\n",
            "Epoch 20/100\n",
            "2/2 - 7s - loss: 0.0096 - accuracy: 1.0000 - 7s/epoch - 4s/step\n",
            "Epoch 21/100\n",
            "2/2 - 7s - loss: 0.0016 - accuracy: 1.0000 - 7s/epoch - 4s/step\n",
            "Epoch 22/100\n",
            "2/2 - 7s - loss: 9.9248e-04 - accuracy: 1.0000 - 7s/epoch - 4s/step\n",
            "Epoch 23/100\n",
            "2/2 - 8s - loss: 0.0025 - accuracy: 1.0000 - 8s/epoch - 4s/step\n",
            "Epoch 24/100\n",
            "2/2 - 8s - loss: 0.0017 - accuracy: 1.0000 - 8s/epoch - 4s/step\n",
            "Epoch 25/100\n",
            "2/2 - 8s - loss: 3.9580e-04 - accuracy: 1.0000 - 8s/epoch - 4s/step\n",
            "Epoch 26/100\n",
            "2/2 - 8s - loss: 1.1116e-04 - accuracy: 1.0000 - 8s/epoch - 4s/step\n",
            "Epoch 27/100\n",
            "2/2 - 7s - loss: 5.1148e-05 - accuracy: 1.0000 - 7s/epoch - 4s/step\n",
            "Epoch 28/100\n",
            "2/2 - 7s - loss: 5.6720e-05 - accuracy: 1.0000 - 7s/epoch - 4s/step\n",
            "Epoch 29/100\n",
            "2/2 - 7s - loss: 8.8702e-05 - accuracy: 1.0000 - 7s/epoch - 4s/step\n",
            "Epoch 30/100\n",
            "2/2 - 7s - loss: 1.4038e-04 - accuracy: 1.0000 - 7s/epoch - 4s/step\n",
            "Epoch 31/100\n",
            "2/2 - 7s - loss: 2.0383e-04 - accuracy: 1.0000 - 7s/epoch - 4s/step\n",
            "Epoch 32/100\n",
            "2/2 - 8s - loss: 1.7840e-04 - accuracy: 1.0000 - 8s/epoch - 4s/step\n",
            "Epoch 33/100\n",
            "2/2 - 8s - loss: 9.5635e-05 - accuracy: 1.0000 - 8s/epoch - 4s/step\n",
            "Epoch 34/100\n",
            "2/2 - 8s - loss: 7.3584e-05 - accuracy: 1.0000 - 8s/epoch - 4s/step\n",
            "Epoch 35/100\n",
            "2/2 - 8s - loss: 4.8387e-05 - accuracy: 1.0000 - 8s/epoch - 4s/step\n",
            "Epoch 36/100\n",
            "2/2 - 7s - loss: 3.6949e-05 - accuracy: 1.0000 - 7s/epoch - 4s/step\n",
            "Epoch 37/100\n",
            "2/2 - 7s - loss: 3.0021e-05 - accuracy: 1.0000 - 7s/epoch - 4s/step\n",
            "Epoch 38/100\n",
            "2/2 - 7s - loss: 2.9130e-05 - accuracy: 1.0000 - 7s/epoch - 4s/step\n",
            "Epoch 39/100\n",
            "2/2 - 7s - loss: 2.7196e-05 - accuracy: 1.0000 - 7s/epoch - 4s/step\n",
            "Epoch 40/100\n",
            "2/2 - 7s - loss: 2.6905e-05 - accuracy: 1.0000 - 7s/epoch - 4s/step\n",
            "Epoch 41/100\n",
            "2/2 - 7s - loss: 2.6399e-05 - accuracy: 1.0000 - 7s/epoch - 4s/step\n",
            "Epoch 42/100\n",
            "2/2 - 8s - loss: 2.5318e-05 - accuracy: 1.0000 - 8s/epoch - 4s/step\n",
            "Epoch 43/100\n",
            "2/2 - 7s - loss: 2.4693e-05 - accuracy: 1.0000 - 7s/epoch - 4s/step\n",
            "Epoch 44/100\n",
            "2/2 - 8s - loss: 2.3361e-05 - accuracy: 1.0000 - 8s/epoch - 4s/step\n",
            "Epoch 45/100\n",
            "2/2 - 8s - loss: 2.2398e-05 - accuracy: 1.0000 - 8s/epoch - 4s/step\n",
            "Epoch 46/100\n",
            "2/2 - 7s - loss: 2.1133e-05 - accuracy: 1.0000 - 7s/epoch - 4s/step\n",
            "Epoch 47/100\n",
            "2/2 - 9s - loss: 1.9946e-05 - accuracy: 1.0000 - 9s/epoch - 5s/step\n",
            "Epoch 48/100\n",
            "2/2 - 7s - loss: 1.9056e-05 - accuracy: 1.0000 - 7s/epoch - 4s/step\n",
            "Epoch 49/100\n",
            "2/2 - 7s - loss: 1.7938e-05 - accuracy: 1.0000 - 7s/epoch - 4s/step\n",
            "Epoch 50/100\n",
            "2/2 - 8s - loss: 1.6842e-05 - accuracy: 1.0000 - 8s/epoch - 4s/step\n",
            "Epoch 51/100\n",
            "2/2 - 8s - loss: 1.6177e-05 - accuracy: 1.0000 - 8s/epoch - 4s/step\n",
            "Epoch 52/100\n",
            "2/2 - 8s - loss: 1.5360e-05 - accuracy: 1.0000 - 8s/epoch - 4s/step\n",
            "Epoch 53/100\n",
            "2/2 - 7s - loss: 1.4638e-05 - accuracy: 1.0000 - 7s/epoch - 4s/step\n",
            "Epoch 54/100\n",
            "2/2 - 7s - loss: 1.4077e-05 - accuracy: 1.0000 - 7s/epoch - 4s/step\n",
            "Epoch 55/100\n",
            "2/2 - 7s - loss: 1.3470e-05 - accuracy: 1.0000 - 7s/epoch - 4s/step\n",
            "Epoch 56/100\n",
            "2/2 - 7s - loss: 1.2919e-05 - accuracy: 1.0000 - 7s/epoch - 4s/step\n",
            "Epoch 57/100\n",
            "2/2 - 7s - loss: 1.2600e-05 - accuracy: 1.0000 - 7s/epoch - 4s/step\n",
            "Epoch 58/100\n",
            "2/2 - 7s - loss: 1.2269e-05 - accuracy: 1.0000 - 7s/epoch - 4s/step\n",
            "Epoch 59/100\n",
            "2/2 - 7s - loss: 1.2003e-05 - accuracy: 1.0000 - 7s/epoch - 4s/step\n",
            "Epoch 60/100\n",
            "2/2 - 7s - loss: 1.1712e-05 - accuracy: 1.0000 - 7s/epoch - 4s/step\n",
            "Epoch 61/100\n",
            "2/2 - 7s - loss: 1.1459e-05 - accuracy: 1.0000 - 7s/epoch - 4s/step\n",
            "Epoch 62/100\n",
            "2/2 - 7s - loss: 1.1271e-05 - accuracy: 1.0000 - 7s/epoch - 4s/step\n",
            "Epoch 63/100\n",
            "2/2 - 7s - loss: 1.1080e-05 - accuracy: 1.0000 - 7s/epoch - 4s/step\n",
            "Epoch 64/100\n",
            "2/2 - 7s - loss: 1.0848e-05 - accuracy: 1.0000 - 7s/epoch - 4s/step\n",
            "Epoch 65/100\n",
            "2/2 - 7s - loss: 1.0762e-05 - accuracy: 1.0000 - 7s/epoch - 4s/step\n",
            "Epoch 66/100\n",
            "2/2 - 7s - loss: 1.0629e-05 - accuracy: 1.0000 - 7s/epoch - 4s/step\n",
            "Epoch 67/100\n",
            "2/2 - 7s - loss: 1.0458e-05 - accuracy: 1.0000 - 7s/epoch - 4s/step\n",
            "Epoch 68/100\n",
            "2/2 - 7s - loss: 1.0334e-05 - accuracy: 1.0000 - 7s/epoch - 4s/step\n",
            "Epoch 69/100\n",
            "2/2 - 7s - loss: 1.0206e-05 - accuracy: 1.0000 - 7s/epoch - 4s/step\n",
            "Epoch 70/100\n",
            "2/2 - 7s - loss: 1.0103e-05 - accuracy: 1.0000 - 7s/epoch - 4s/step\n",
            "Epoch 71/100\n",
            "2/2 - 7s - loss: 9.9989e-06 - accuracy: 1.0000 - 7s/epoch - 4s/step\n",
            "Epoch 72/100\n",
            "2/2 - 7s - loss: 9.8791e-06 - accuracy: 1.0000 - 7s/epoch - 4s/step\n",
            "Epoch 73/100\n",
            "2/2 - 7s - loss: 9.7593e-06 - accuracy: 1.0000 - 7s/epoch - 4s/step\n",
            "Epoch 74/100\n",
            "2/2 - 7s - loss: 9.6829e-06 - accuracy: 1.0000 - 7s/epoch - 4s/step\n",
            "Epoch 75/100\n",
            "2/2 - 7s - loss: 9.5526e-06 - accuracy: 1.0000 - 7s/epoch - 4s/step\n",
            "Epoch 76/100\n",
            "2/2 - 7s - loss: 9.4787e-06 - accuracy: 1.0000 - 7s/epoch - 4s/step\n",
            "Epoch 77/100\n",
            "2/2 - 7s - loss: 9.3713e-06 - accuracy: 1.0000 - 7s/epoch - 4s/step\n",
            "Epoch 78/100\n",
            "2/2 - 7s - loss: 9.2701e-06 - accuracy: 1.0000 - 7s/epoch - 4s/step\n",
            "Epoch 79/100\n",
            "2/2 - 7s - loss: 9.1962e-06 - accuracy: 1.0000 - 7s/epoch - 4s/step\n",
            "Epoch 80/100\n",
            "2/2 - 7s - loss: 9.1118e-06 - accuracy: 1.0000 - 7s/epoch - 4s/step\n",
            "Epoch 81/100\n",
            "2/2 - 7s - loss: 9.0199e-06 - accuracy: 1.0000 - 7s/epoch - 4s/step\n",
            "Epoch 82/100\n",
            "2/2 - 7s - loss: 8.9454e-06 - accuracy: 1.0000 - 7s/epoch - 4s/step\n",
            "Epoch 83/100\n",
            "2/2 - 9s - loss: 8.8560e-06 - accuracy: 1.0000 - 9s/epoch - 5s/step\n",
            "Epoch 84/100\n",
            "2/2 - 7s - loss: 8.7809e-06 - accuracy: 1.0000 - 7s/epoch - 4s/step\n",
            "Epoch 85/100\n",
            "2/2 - 7s - loss: 8.6909e-06 - accuracy: 1.0000 - 7s/epoch - 4s/step\n",
            "Epoch 86/100\n",
            "2/2 - 7s - loss: 8.6257e-06 - accuracy: 1.0000 - 7s/epoch - 4s/step\n",
            "Epoch 87/100\n",
            "2/2 - 7s - loss: 8.5444e-06 - accuracy: 1.0000 - 7s/epoch - 4s/step\n",
            "Epoch 88/100\n",
            "2/2 - 7s - loss: 8.4730e-06 - accuracy: 1.0000 - 7s/epoch - 4s/step\n",
            "Epoch 89/100\n",
            "2/2 - 7s - loss: 8.4091e-06 - accuracy: 1.0000 - 7s/epoch - 4s/step\n",
            "Epoch 90/100\n",
            "2/2 - 7s - loss: 8.3234e-06 - accuracy: 1.0000 - 7s/epoch - 4s/step\n",
            "Epoch 91/100\n",
            "2/2 - 7s - loss: 8.2620e-06 - accuracy: 1.0000 - 7s/epoch - 4s/step\n",
            "Epoch 92/100\n",
            "2/2 - 7s - loss: 8.1881e-06 - accuracy: 1.0000 - 7s/epoch - 4s/step\n",
            "Epoch 93/100\n",
            "2/2 - 7s - loss: 8.1161e-06 - accuracy: 1.0000 - 7s/epoch - 4s/step\n",
            "Epoch 94/100\n",
            "2/2 - 7s - loss: 8.0428e-06 - accuracy: 1.0000 - 7s/epoch - 4s/step\n",
            "Epoch 95/100\n",
            "2/2 - 7s - loss: 7.9907e-06 - accuracy: 1.0000 - 7s/epoch - 4s/step\n",
            "Epoch 96/100\n",
            "2/2 - 7s - loss: 7.9031e-06 - accuracy: 1.0000 - 7s/epoch - 4s/step\n",
            "Epoch 97/100\n",
            "2/2 - 7s - loss: 7.8404e-06 - accuracy: 1.0000 - 7s/epoch - 4s/step\n",
            "Epoch 98/100\n",
            "2/2 - 7s - loss: 7.7753e-06 - accuracy: 1.0000 - 7s/epoch - 4s/step\n",
            "Epoch 99/100\n",
            "2/2 - 8s - loss: 7.7231e-06 - accuracy: 1.0000 - 8s/epoch - 4s/step\n",
            "Epoch 100/100\n",
            "2/2 - 8s - loss: 7.6617e-06 - accuracy: 1.0000 - 8s/epoch - 4s/step\n"
          ]
        }
      ]
    },
    {
      "cell_type": "code",
      "source": [
        "model.evaluate(X_test, y_test)"
      ],
      "metadata": {
        "colab": {
          "base_uri": "https://localhost:8080/"
        },
        "id": "foyFmin0TacY",
        "outputId": "d7b92f9d-3b7e-4801-af9f-62730d3fb9f0"
      },
      "execution_count": 14,
      "outputs": [
        {
          "output_type": "stream",
          "name": "stdout",
          "text": [
            "2/2 [==============================] - 1s 196ms/step - loss: 1.5889e-04 - accuracy: 1.0000\n"
          ]
        },
        {
          "output_type": "execute_result",
          "data": {
            "text/plain": [
              "[0.0001588869490660727, 1.0]"
            ]
          },
          "metadata": {},
          "execution_count": 14
        }
      ]
    },
    {
      "cell_type": "code",
      "source": [
        "# plt.figure(1)\n",
        "plt.plot(history.history['loss'], label='training loss')\n",
        "plt.plot(history.history['accuracy'], label='accuracy')\n",
        "plt.title('Loss')\n",
        "plt.xlabel('epochs')\n",
        "plt.ylabel('loss')\n",
        "plt.legend()\n",
        "plt.show()"
      ],
      "metadata": {
        "colab": {
          "base_uri": "https://localhost:8080/",
          "height": 295
        },
        "id": "Ifbc7cwfTb4R",
        "outputId": "b3490a8f-5731-410e-80ec-ef6221128703"
      },
      "execution_count": 15,
      "outputs": [
        {
          "output_type": "display_data",
          "data": {
            "text/plain": [
              "<Figure size 432x288 with 1 Axes>"
            ],
            "image/png": "[encoded data removed]"
          },
          "metadata": {
            "needs_background": "light"
          }
        }
      ]
    },
    {
      "cell_type": "code",
      "source": [
        "n = 0"
      ],
      "metadata": {
        "id": "gTHZwVrbTeG_"
      },
      "execution_count": 16,
      "outputs": []
    },
    {
      "cell_type": "code",
      "source": [
        "# n = 0\n",
        "n+=1\n",
        "print(X_test[n].shape)\n",
        "plt.imshow(X_test[n])\n",
        "pred = model.predict(X_test[n].reshape(1, 128, 128, 3))\n",
        "print('Pred: ', classnames[pred.argmax()])\n",
        "print('True label: ', classnames[y_test[n].argmax()])"
      ],
      "metadata": {
        "colab": {
          "base_uri": "https://localhost:8080/",
          "height": 337
        },
        "id": "CECfm7ZnTfn7",
        "outputId": "70ab2df5-f2c2-4e8b-eb51-b316dc855956"
      },
      "execution_count": 17,
      "outputs": [
        {
          "output_type": "stream",
          "name": "stdout",
          "text": [
            "(128, 128, 3)\n",
            "1/1 [==============================] - 0s 133ms/step\n",
            "Pred:  Ipsala\n",
            "True label:  Ipsala\n"
          ]
        },
        {
          "output_type": "display_data",
          "data": {
            "text/plain": [
              "<Figure size 432x288 with 1 Axes>"
            ],
            "image/png": "[encoded data removed]"
          },
          "metadata": {
            "needs_background": "light"
          }
        }
      ]
    },
    {
      "cell_type": "code",
      "source": [
        "model.save('rice_classification_weight.h5')  # creates a HDF5 file 'my_model.h5'"
      ],
      "metadata": {
        "id": "melXkS-_Wvs7"
      },
      "execution_count": 18,
      "outputs": []
    },
    {
      "cell_type": "code",
      "source": [
        "from keras.models import load_model\n",
        "model = load_model('rice_classification_weight.h5')"
      ],
      "metadata": {
        "id": "zJaCg-KlWy2l"
      },
      "execution_count": 19,
      "outputs": []
    },
    {
      "cell_type": "code",
      "source": [
        "n = 2\n",
        "n+=1\n",
        "print(X_test[n].shape)\n",
        "plt.imshow(X_test[n])\n",
        "pred = model.predict(X_test[n].reshape(1, 128, 128, 3))\n",
        "print('Pred: ', classnames[pred.argmax()])\n",
        "print('True label: ', classnames[y_test[n].argmax()])"
      ],
      "metadata": {
        "colab": {
          "base_uri": "https://localhost:8080/",
          "height": 337
        },
        "id": "aSxGa1MXW05n",
        "outputId": "22143745-0418-4d46-d323-e4106334d400"
      },
      "execution_count": 20,
      "outputs": [
        {
          "output_type": "stream",
          "name": "stdout",
          "text": [
            "(128, 128, 3)\n",
            "1/1 [==============================] - 0s 96ms/step\n",
            "Pred:  Ipsala\n",
            "True label:  Ipsala\n"
          ]
        },
        {
          "output_type": "display_data",
          "data": {
            "text/plain": [
              "<Figure size 432x288 with 1 Axes>"
            ],
            "image/png": "[encoded data removed]"
          },
          "metadata": {
            "needs_background": "light"
          }
        }
      ]
    }
  ]
}